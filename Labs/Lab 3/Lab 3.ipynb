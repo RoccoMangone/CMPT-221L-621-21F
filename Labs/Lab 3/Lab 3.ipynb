{
 "cells": [
  {
   "cell_type": "markdown",
   "source": [
    "# Lab Three\n",
    "---\n",
    "\n",
    "Ok for this lab we're going to reiterate a lot of the things that we went over in class.\n",
    "\n",
    "Our Goals are:\n",
    "- Understanding Variable Types\n",
    "- Defining Variables\n",
    "- Using Conditionals\n",
    "- Using Loops\n",
    "- Creating Objects\n",
    "- Writing a function\n"
   ],
   "metadata": {}
  },
  {
   "cell_type": "markdown",
   "source": [
    "## What's the difference between Null and undefined?"
   ],
   "metadata": {}
  },
  {
   "cell_type": "markdown",
   "source": [
    "Null is a blank value that it put in deliberately, while undefined indicates that there is absolutely nothing at all"
   ],
   "metadata": {}
  },
  {
   "cell_type": "markdown",
   "source": [
    "## List the 3 Variable Types and Use Them!"
   ],
   "metadata": {}
  },
  {
   "cell_type": "markdown",
   "source": [
    "(Var, Let, Const)          \r\n",
    "var num = 12, \r\n",
    "let go = \"green\", \r\n",
    "const pair = 2"
   ],
   "metadata": {}
  },
  {
   "cell_type": "markdown",
   "source": [
    "## Use an If/Else If/Else Statement and a Switch Case statement"
   ],
   "metadata": {}
  },
  {
   "cell_type": "code",
   "execution_count": null,
   "source": [
    "let x = 1;\r\n",
    "if(x = 1)\r\n",
    "{\r\n",
    "    on = true;\r\n",
    "}\r\n",
    "else if( x = 0)\r\n",
    "{\r\n",
    "    on = false;\r\n",
    "}\r\n",
    "else\r\n",
    "{\r\n",
    "    Console.log(\"Something went wrong\");\r\n",
    "}\r\n",
    "\r\n",
    "let speed = \"stop\";\r\n",
    "switch (speed)\r\n",
    "{\r\n",
    "    case \"go\":\r\n",
    "        {\r\n",
    "            color = \"green\";\r\n",
    "            break;\r\n",
    "        }\r\n",
    "        case \"slow\":\r\n",
    "        {\r\n",
    "            color = yellow;\r\n",
    "            break;\r\n",
    "        }\r\n",
    "        case \"stop\":\r\n",
    "        {\r\n",
    "            color = \"red\";\r\n",
    "            break;\r\n",
    "        }\r\n",
    "}"
   ],
   "outputs": [],
   "metadata": {}
  },
  {
   "cell_type": "markdown",
   "source": [
    "## Use a For and a While Loop"
   ],
   "metadata": {}
  },
  {
   "cell_type": "code",
   "execution_count": null,
   "source": [
    "let x = 0;\r\n",
    "for(x = 1; x<=5; x++)\r\n",
    "{\r\n",
    "    Console.log(\"Hello\");\r\n",
    "}\r\n",
    "\r\n",
    "let x = 5;\r\n",
    "while(x < 10)\r\n",
    "{\r\n",
    "    Console.log(x);\r\n",
    "}"
   ],
   "outputs": [],
   "metadata": {}
  },
  {
   "cell_type": "markdown",
   "source": [
    "## Make an object!"
   ],
   "metadata": {}
  },
  {
   "cell_type": "code",
   "execution_count": null,
   "source": [
    "//Car\r\n",
    "let bestCar = {\r\n",
    "    brand: \"Kia\",\r\n",
    "    model: \"Soul\",\r\n",
    "    paint: \"green\"\r\n",
    "}"
   ],
   "outputs": [],
   "metadata": {}
  },
  {
   "cell_type": "markdown",
   "source": [
    "## Make a function, It can do anything!"
   ],
   "metadata": {}
  },
  {
   "cell_type": "code",
   "execution_count": null,
   "source": [
    "function doubleNum (num)\r\n",
    "{\r\n",
    "    num = num * 2;\r\n",
    "    Console.log(num);\r\n",
    "}"
   ],
   "outputs": [],
   "metadata": {}
  },
  {
   "cell_type": "markdown",
   "source": [
    "## Optional: Checkout HackerRank and try a problem in Javascript"
   ],
   "metadata": {}
  }
 ],
 "metadata": {
  "kernelspec": {
   "display_name": "Javascript (Node.js)",
   "language": "javascript",
   "name": "javascript"
  },
  "language_info": {
   "file_extension": ".js",
   "mimetype": "application/javascript",
   "name": "javascript",
   "version": "14.17.6"
  }
 },
 "nbformat": 4,
 "nbformat_minor": 2
}